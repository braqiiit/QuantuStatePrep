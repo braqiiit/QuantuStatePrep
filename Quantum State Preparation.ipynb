{
 "cells": [
  {
   "cell_type": "markdown",
   "id": "f7c7a175-6201-40ad-b948-1bf29c09d53a",
   "metadata": {},
   "source": [
    "# Quantum State Preparation\n",
    "\n",
    "Implementation of the paper [Black-Box Quantum State Preparation without Arithmetic](https://doi.org/10.1103/PhysRevLett.122.020502)."
   ]
  },
  {
   "cell_type": "markdown",
   "id": "2848b51d-1765-4172-9e99-7ac9265af515",
   "metadata": {},
   "source": [
    "### Problem statement\n",
    "\n",
    "Given an array of $m$ decimal values \n",
    "$$A = (a_0, ..., a_{m-1})$$\n",
    "such that $a_i \\in [0, 1)$, prepare the quantum state \n",
    "$$|\\psi\\rangle = \\frac{1}{||A||}\\sum_{i=0}^{m-1}a_i|i\\rangle$$\n",
    "where $||A||$ is the normalization constant, and is equal to the magnitude of the vector represented by $A$. $$||A|| = \\sqrt{\\sum_{i=0}^{m-1}{a_i}^2}$$\n",
    "\n",
    "We have access to a black-box $amp$ which has the following action - \n",
    "$$amp|i\\rangle|z\\rangle = |i\\rangle|z \\oplus a_{i}^{(n)}\\rangle $$\n",
    "\n",
    "where $a_{i}^{n}$ is the data $a_{i}$ upto $n$ bits of precision"
   ]
  },
  {
   "cell_type": "code",
   "execution_count": 1,
   "id": "7a97d136-6a59-4448-aa36-65ce08431309",
   "metadata": {},
   "outputs": [],
   "source": [
    "from qiskit import Aer, execute, QuantumCircuit, QuantumRegister, ClassicalRegister\n",
    "from qiskit.quantum_info import Statevector\n",
    "from qiskit.circuit.library.standard_gates import RYGate, MCXGate, ZGate\n",
    "from qiskit.circuit.controlledgate import ControlledGate\n",
    "from qiskit.algorithms import Grover, AmplificationProblem\n",
    "from qiskit.utils import QuantumInstance\n",
    "from qiskit.visualization import plot_histogram\n",
    "\n",
    "import numpy as np"
   ]
  },
  {
   "cell_type": "code",
   "execution_count": 2,
   "id": "549df852-a83f-4ccf-a20e-aa7212024958",
   "metadata": {},
   "outputs": [],
   "source": [
    "def get_aln(al, n):\n",
    "    \"\"\" Returns the binary form upto n bits of precision of the input decimal data. \"\"\"\n",
    "    aln = \"\"\n",
    "    for i in range(n):\n",
    "        al *= 2\n",
    "        aln += str(int(al))\n",
    "        al = al - int(al)\n",
    "        \n",
    "    # aln = \"0.\" + aln\n",
    "    return aln"
   ]
  },
  {
   "cell_type": "code",
   "execution_count": 3,
   "id": "069c430d-62d3-4d74-8d52-556211c7b16c",
   "metadata": {},
   "outputs": [],
   "source": [
    "def check_get_aln(aln, al):\n",
    "    aln = aln[2:]\n",
    "    check_al = 0\n",
    "    p = 0.5\n",
    "    for dig in aln:\n",
    "        check_al += p*int(dig)\n",
    "        p /= 2\n",
    "    print(abs(al - check_al))"
   ]
  },
  {
   "cell_type": "code",
   "execution_count": 4,
   "id": "d7659bb5-20aa-47c9-ba51-8f48874348e0",
   "metadata": {},
   "outputs": [],
   "source": [
    "def aln_to_gate(aln, n):\n",
    "    \"\"\" Constructs the gate that corresponds to the input binary string - X for bit '1' and I for bit '0'. \"\"\"\n",
    "    qc = QuantumCircuit(n)\n",
    "    for i, dig in enumerate(aln):\n",
    "        if dig == '1':\n",
    "            qc.x(i)\n",
    "    return qc.to_gate(label=aln)    "
   ]
  },
  {
   "cell_type": "code",
   "execution_count": 5,
   "id": "e3381505-094c-4613-80bf-c1953ca2fa28",
   "metadata": {
    "tags": []
   },
   "outputs": [],
   "source": [
    "def get_sv(sv, modified):\n",
    "    vals = []\n",
    "    \n",
    "    if modified == False:\n",
    "        print(\"  Out   Data  Flag  Amplitude    Probability\")\n",
    "        for j in range(len(sv.data)):\n",
    "            if np.abs(sv.data[j]) > 0.00001:\n",
    "                vals.append((bin(j)[2:].rjust(d+n+1, '0')[::-1][0:d], bin(j)[2:].rjust(d+n+1, '0')[::-1][d:d+n], bin(j)[2:].rjust(d+n+1, '0')[::-1][d+n:], \"{:.8f}\".format(np.abs(sv.data[j])), \"{:.8f}\".format(np.abs(sv.data[j])**2)))        \n",
    "    else:\n",
    "        print(\"  Out   Data   Ref  Flag  Amplitude           Probability\")\n",
    "        for j in range(len(sv.data)):\n",
    "            if np.abs(sv.data[j]) > 0.00001:\n",
    "                vals.append((bin(j)[2:].rjust(d+2*n+1, '0')[::-1][0:d], bin(j)[2:].rjust(d+2*n+1, '0')[::-1][d:d+n], bin(j)[2:].rjust(d+2*n+1, '0')[::-1][d+n:d+2*n], bin(j)[2:].rjust(d+2*n+1, '0')[::-1][d+2*n:], \"{:.8f}\".format(np.abs(sv.data[j])), \"{:.8f}\".format(np.abs(sv.data[j])**2)))        \n",
    "    vals.sort(key = lambda x: x[0])\n",
    "    return vals"
   ]
  },
  {
   "cell_type": "markdown",
   "id": "f57ee968-ca97-4a22-bcd8-9743f52f533f",
   "metadata": {
    "tags": []
   },
   "source": [
    "# Initializing the data\n",
    "\n",
    "We set $n$ (the precision) and $m$ (the number of data elements), and find $d$ (the number of bits required by the index register to represent $m$ values). \n",
    "\n",
    "Since the number of basis states is always a power of $2$, we set the remaining amplitudes as $0$."
   ]
  },
  {
   "cell_type": "code",
   "execution_count": 6,
   "id": "a49d3c23-76d7-48ea-bb35-c43d981b4778",
   "metadata": {
    "tags": []
   },
   "outputs": [],
   "source": [
    "n = 3\n",
    "m = 2\n",
    "data_m = m\n",
    "d = int(np.ceil(np.log2(m)))\n",
    "\n",
    "if d - np.log2(m) != 0:\n",
    "    data_m = m\n",
    "    m = 2**d"
   ]
  },
  {
   "cell_type": "code",
   "execution_count": 7,
   "id": "02aad7ee-fd3f-4fa2-96e3-3ee9fe179fae",
   "metadata": {},
   "outputs": [
    {
     "name": "stdout",
     "output_type": "stream",
     "text": [
      "3 2 1 2\n"
     ]
    }
   ],
   "source": [
    "print(n, m, d, data_m)"
   ]
  },
  {
   "cell_type": "markdown",
   "id": "9874009c-0f73-4865-80fc-04dc8089e4da",
   "metadata": {},
   "source": [
    "We take up a toy example, where\n",
    "$$ A = [0.375, 0.125] $$\n",
    "\n",
    "The precision ($n$) is set to $3$, hence the binary representation of the data will be calculated upto $3$ places."
   ]
  },
  {
   "cell_type": "markdown",
   "id": "cf57dd00-aefa-4db1-b89f-69e10412746e",
   "metadata": {},
   "source": [
    "The code in this notebook will also work with a randomly generated array of any length and with any precision by - \n",
    "1. Updating `n` and `m` in the above cell\n",
    "2. Uncommenting the first two lines of the next cell\n",
    "3. Commenting out the third line of the next cell\n",
    "\n",
    "Alternatively, an array of values may be specified directly and initialzed as `A_vals`, provided `n` and `m` are set correctly in the previous cell, and `m` is a power of $2$"
   ]
  },
  {
   "cell_type": "code",
   "execution_count": 8,
   "id": "d8fcea42-0881-4b92-82a5-7d2ec7511d64",
   "metadata": {},
   "outputs": [
    {
     "name": "stdout",
     "output_type": "stream",
     "text": [
      "Data : [0.375, 0.125]\n",
      "Binary form upto 3 places : ['011', '001']\n",
      "Decimal data after rounding to 3 places : [0.375, 0.125]\n"
     ]
    }
   ],
   "source": [
    "# A_vals = [np.random.rand() for i in range(data_m)]\n",
    "# A_vals += [0 for i in range(m - data_m)]\n",
    "\n",
    "A_vals = [0.375, 0.125]\n",
    "print(f\"Data : {A_vals}\")\n",
    "A = [get_aln(A_vals[i], n) for i in range(m)]\n",
    "print(f\"Binary form upto {n} places : {A}\")\n",
    "dec = 2**n\n",
    "A_vals_n = [int(A[i], 2)/dec for i in range(m)]\n",
    "print(f\"Decimal data after rounding to {n} places : {A_vals_n}\")"
   ]
  },
  {
   "cell_type": "markdown",
   "id": "4087a154-4bfb-46d3-b5f2-0c38d457475b",
   "metadata": {},
   "source": [
    "# Grover's state preparation algorithm"
   ]
  },
  {
   "cell_type": "markdown",
   "id": "1204e11f-3caf-441e-a4fb-73f200cd6b37",
   "metadata": {},
   "source": [
    "#### Step 1 - Initialization\n",
    "The circuit is initialized with `out`, `data` and `flag`  registers, and with `out` register in equal superposition (to represent indices).\n",
    "\n",
    "$$\n",
    "\\begin{align}\n",
    "|\\psi_0\\rangle &= H^{\\otimes d}|0^{\\otimes d}\\rangle_{out} \\otimes |0^{\\otimes n}\\rangle_{data} \\otimes |0\\rangle_{flag} \\\\\n",
    "|\\psi_0\\rangle &= \\frac{1}{\\sqrt{M}}\\sum_{i=0}^{M - 1}|i\\rangle_{out}|0^{\\otimes n}\\rangle_{data}|0\\rangle_{flag}\n",
    "\\end{align}\n",
    "$$\n",
    "\n",
    "where $M = 2^d$"
   ]
  },
  {
   "cell_type": "code",
   "execution_count": 9,
   "id": "e6cc8e13-e637-49c8-9275-b0b3b2511b7c",
   "metadata": {
    "tags": []
   },
   "outputs": [],
   "source": [
    "def initializer(A, d, m, n, modified):\n",
    "    \"\"\" Initializes a circuit with the appropriate registers for Grover's state preparation method, or the modified version. \n",
    "        Also puts the first register in an equal superposition. \"\"\"\n",
    "    out = QuantumRegister(d, name = \"out\")\n",
    "    data = QuantumRegister(n, name = \"data\")\n",
    "    ref = QuantumRegister(n, name = \"ref\")\n",
    "    flag = QuantumRegister(1, name = \"flag\")\n",
    "    \n",
    "    if modified:\n",
    "        circ = QuantumCircuit(out, data, ref, flag, name = \"init\")\n",
    "    else:\n",
    "        circ = QuantumCircuit(out, data, flag, name = \"init\")\n",
    "        \n",
    "    k = int(np.log2(m))\n",
    "    for i in range(k):\n",
    "        circ.h([i for i in range(k)])\n",
    "        \n",
    "    return circ"
   ]
  },
  {
   "cell_type": "code",
   "execution_count": 10,
   "id": "4571697b-52c5-4dcc-a1ff-ef46fd18429f",
   "metadata": {},
   "outputs": [],
   "source": [
    "qc_orig = initializer(A, d, m, n, False)\n",
    "sv_orig_0 = Statevector.from_instruction(qc_orig) "
   ]
  },
  {
   "cell_type": "code",
   "execution_count": 11,
   "id": "53a4a3d8-e26c-4e5f-a186-48bba61c2f37",
   "metadata": {},
   "outputs": [
    {
     "name": "stdout",
     "output_type": "stream",
     "text": [
      "  Out   Data  Flag  Amplitude    Probability\n"
     ]
    },
    {
     "data": {
      "text/plain": [
       "[('0', '000', '0', '0.70710678', '0.50000000'),\n",
       " ('1', '000', '0', '0.70710678', '0.50000000')]"
      ]
     },
     "execution_count": 11,
     "metadata": {},
     "output_type": "execute_result"
    }
   ],
   "source": [
    "get_sv(sv_orig_0, False)"
   ]
  },
  {
   "cell_type": "markdown",
   "id": "0bf05109-4956-47b6-aa03-71ad362e7834",
   "metadata": {},
   "source": [
    "#### Step 2 - Apply black box `amp`\n",
    "\n",
    "Next, the oracle is applied on the circuit, which prepares the system in the state \n",
    "\n",
    "$$\n",
    "\\begin{align}\n",
    "|\\psi_1\\rangle &= (amp \\otimes I) |\\psi_0\\rangle \\\\\n",
    "|\\psi_1\\rangle &= \\frac{1}{\\sqrt{M}}\\sum_{i=0}^{M - 1}|i\\rangle_{out}|a_{i}^{(n)}\\rangle_{data}|0\\rangle_{flag}\n",
    "\\end{align}\n",
    "$$\n",
    "\n",
    "$amp$ has the following action - \n",
    "$$amp|i\\rangle|z\\rangle = |i\\rangle|z \\oplus a_{i}^{(n)}\\rangle $$"
   ]
  },
  {
   "cell_type": "code",
   "execution_count": 12,
   "id": "7e7e0c3b-9077-4c27-b245-485c98c38aa9",
   "metadata": {},
   "outputs": [],
   "source": [
    "def oracle(A, d, m, n):\n",
    "    \"\"\" Loads the data array onto the circuit, controlled by register out as index. \"\"\"\n",
    "    circ = QuantumCircuit(d+n, name = \"oracle\")\n",
    "    for i in range(m):\n",
    "        aln_gate = aln_to_gate(A[i], n).control(num_ctrl_qubits = d, label = str(A[i]), ctrl_state = bin(i)[2:].rjust(d, \"0\")[::-1])\n",
    "        circ.append(aln_gate, [i for i in range(0, d+n)])\n",
    "    return circ"
   ]
  },
  {
   "cell_type": "code",
   "execution_count": 13,
   "id": "dbc4fecc-2726-4df0-9ee6-27e31f7f31b0",
   "metadata": {},
   "outputs": [],
   "source": [
    "black_box = oracle(A, d, m, n)\n",
    "qc_orig.append(black_box, qargs = [i for i in range(0,d+n)])\n",
    "sv_orig_1 = Statevector.from_instruction(qc_orig) "
   ]
  },
  {
   "cell_type": "code",
   "execution_count": 14,
   "id": "51a01781-0630-400b-92e6-eb3bcfd98ac0",
   "metadata": {},
   "outputs": [
    {
     "name": "stdout",
     "output_type": "stream",
     "text": [
      "  Out   Data  Flag  Amplitude    Probability\n"
     ]
    },
    {
     "data": {
      "text/plain": [
       "[('0', '011', '0', '0.70710678', '0.50000000'),\n",
       " ('1', '001', '0', '0.70710678', '0.50000000')]"
      ]
     },
     "execution_count": 14,
     "metadata": {},
     "output_type": "execute_result"
    }
   ],
   "source": [
    "get_sv(sv_orig_1, False)"
   ]
  },
  {
   "cell_type": "markdown",
   "id": "6b7d194c-a570-45db-a3c7-3a3fc8e9f630",
   "metadata": {},
   "source": [
    "#### Step 3 - Perform rotation operation\n",
    "\n",
    "The $rot$ operator is applied on the system, which results in the following state\n",
    "\n",
    "$$\n",
    "\\begin{align}\n",
    "|\\psi_2\\rangle &= rot|\\psi_1\\rangle \\\\\n",
    "|\\psi_2\\rangle &= \\frac{1}{\\sqrt{M}}\\sum_{i=0}^{M - 1}|i\\rangle_{out}|a_{i}^{(n)}\\rangle_{data}(\\sin{\\theta_i}|0\\rangle_{flag} + \\cos{\\theta_i}|1\\rangle_{flag})\n",
    "\\end{align}\n",
    "$$\n",
    "\n",
    "where $\\theta_i = \\arcsin{\\frac{a_{i}^{(n)}}{2^n}}$\n",
    "\n",
    "In the case of the toy example, we have \n",
    "\n",
    "$$\n",
    "\\begin{align}\n",
    "|\\psi_2\\rangle &= \\frac{1}{2}|0\\rangle_{out}|011\\rangle_{data}(0.375|0\\rangle_{flag} + 0.927|1\\rangle_{flag}) \\\\\n",
    "               &+ \\frac{1}{2}|1\\rangle_{out}|001\\rangle_{data}(0.125|0\\rangle_{flag} + 0.992|1\\rangle_{flag}) \n",
    "\\end{align}\n",
    "$$"
   ]
  },
  {
   "cell_type": "code",
   "execution_count": 15,
   "id": "b2f01625-4ad6-4ae2-a30c-2b67a2192766",
   "metadata": {},
   "outputs": [],
   "source": [
    "def rotate(A_vals_n, d, m):\n",
    "    \"\"\" Applies a CRY(θ_i) Gate with θ_i = ith data element (upto n bits), and controlled by out register as index. \"\"\"\n",
    "    circ = QuantumCircuit(d+1, name = \"rot\")\n",
    "    for i in range(m):\n",
    "        theta_i = np.pi - 2*np.arcsin(A_vals_n[i])\n",
    "        ry_gate = RYGate(theta = theta_i)\n",
    "        circ.append(ry_gate.control(num_ctrl_qubits = d, label = str(A[i]), ctrl_state = bin(i)[2:].rjust(d, \"0\")[::-1]), [j for j in range(d+1)]) \n",
    "    return circ"
   ]
  },
  {
   "cell_type": "code",
   "execution_count": 16,
   "id": "6ab067b0-471d-4cef-8a64-2a4e90422a0b",
   "metadata": {},
   "outputs": [],
   "source": [
    "rot = rotate(A_vals_n, d, m)\n",
    "qc_orig.append(rot, qargs = [i for i in range(0,d)] + [d+n])\n",
    "sv_orig_2 = Statevector.from_instruction(qc_orig)\n",
    "# qc_orig.measure_all()"
   ]
  },
  {
   "cell_type": "code",
   "execution_count": 17,
   "id": "728eb93c-7c38-41cf-8589-397151abf85e",
   "metadata": {},
   "outputs": [
    {
     "name": "stdout",
     "output_type": "stream",
     "text": [
      "  Out   Data  Flag  Amplitude    Probability\n"
     ]
    },
    {
     "data": {
      "text/plain": [
       "[('0', '011', '0', '0.26516504', '0.07031250'),\n",
       " ('0', '011', '1', '0.65550553', '0.42968750'),\n",
       " ('1', '001', '0', '0.08838835', '0.00781250'),\n",
       " ('1', '001', '1', '0.70156076', '0.49218750')]"
      ]
     },
     "execution_count": 17,
     "metadata": {},
     "output_type": "execute_result"
    }
   ],
   "source": [
    "get_sv(sv_orig_2, False)"
   ]
  },
  {
   "cell_type": "code",
   "execution_count": 18,
   "id": "579e3124-b7eb-4696-8b3a-2d10c38cc05f",
   "metadata": {},
   "outputs": [
    {
     "data": {
      "image/png": "[encoded data removed]",
      "text/plain": [
       "<Figure size 361.147x325.08 with 1 Axes>"
      ]
     },
     "execution_count": 18,
     "metadata": {},
     "output_type": "execute_result"
    }
   ],
   "source": [
    "qc_orig.draw('mpl')"
   ]
  },
  {
   "cell_type": "markdown",
   "id": "b076f88d-54c4-4774-b5ee-fd6024d42b99",
   "metadata": {},
   "source": [
    "#### Step 4 - Perform amplitude amplification\n",
    "\n",
    "The system now contains the target state, which has the data elements as amplitudes of the basis vectors. However the rotation also introduces some unwanted states (where ```flag``` register is $1$). To eliminate these states and increase the probability of the desired state, we perform amplitude amplification on the state $|\\psi_2\\rangle$. After amplitude amplification, we will be left with a superposition of the desired state, and an undesired state (with ```flag``` register as $1$), which has a small probability."
   ]
  },
  {
   "cell_type": "code",
   "execution_count": 19,
   "id": "3a5d07ca-0bde-4079-9cd6-f3d34938f908",
   "metadata": {},
   "outputs": [],
   "source": [
    "def phase_oracle(d, n, modified):\n",
    "    \"\"\" Flips the phase of the state to be amplified. \"\"\"\n",
    "    out = QuantumRegister(d, name = \"out\")\n",
    "    data = QuantumRegister(n, name = \"data\")\n",
    "    ref = QuantumRegister(n, name = \"ref\")\n",
    "    flag = QuantumRegister(1, name = \"flag\")\n",
    "    \n",
    "    if modified:\n",
    "        # Good state has ref and flag registers as all 0s\n",
    "        circ = QuantumCircuit(out, data, ref, flag, name = \"Phase Oracle\")\n",
    "        circ.x(flag)\n",
    "        circ.append(ZGate().control(num_ctrl_qubits = n, label = \"phase\", ctrl_state = \"0\"*n), [i for i in range(d+n, d+(2*n)+1)])\n",
    "        circ.x(flag)\n",
    "    else:\n",
    "        # Good state has flag register as all 0s\n",
    "        circ = QuantumCircuit(out, data, flag, name = \"Phase Oracle\")\n",
    "        circ.x(flag)\n",
    "        circ.z(flag)\n",
    "        circ.x(flag)\n",
    "    \n",
    "    return circ"
   ]
  },
  {
   "cell_type": "code",
   "execution_count": 20,
   "id": "d1e81065-4d24-4924-8126-a776a7bf2e8f",
   "metadata": {},
   "outputs": [],
   "source": [
    "backend = Aer.get_backend('aer_simulator')\n",
    "quantum_instance = QuantumInstance(backend)\n",
    "\n",
    "problem = AmplificationProblem(oracle = phase_oracle(d, n, False), state_preparation = qc_orig, objective_qubits = [i for i in range(0,d+n+1)], is_good_state = ['00110', '10010'])\n",
    "grover = Grover(quantum_instance=quantum_instance)\n",
    "\n",
    "out = QuantumRegister(d, name = \"out\")\n",
    "data = QuantumRegister(n, name = \"data\")\n",
    "flag = QuantumRegister(1, name = \"flag\")\n",
    "check = ClassicalRegister(d+1, name = \"check\")\n",
    "\n",
    "state_prep = QuantumCircuit(out, data, flag, check, name = \"State preparation\")\n",
    "\n",
    "# Construct the Grover circuit and apply the Grover operator twice to amplify the good states\n",
    "grover_ckt = grover.construct_circuit(problem, power = 2)\n",
    "state_prep.append(grover_ckt, [i for i in range(0, d+n+1)])\n",
    "sv_orig_3 = Statevector.from_instruction(state_prep)"
   ]
  },
  {
   "cell_type": "code",
   "execution_count": 21,
   "id": "161af5fe-0536-46dd-aa04-0486a00a951e",
   "metadata": {},
   "outputs": [
    {
     "name": "stdout",
     "output_type": "stream",
     "text": [
      "  Out   Data  Flag  Amplitude    Probability\n"
     ]
    },
    {
     "data": {
      "text/plain": [
       "[('0', '011', '0', '0.93739986', '0.87871850'),\n",
       " ('0', '011', '1', '0.10498331', '0.01102149'),\n",
       " ('1', '001', '0', '0.31246662', '0.09763539'),\n",
       " ('1', '001', '1', '0.11235934', '0.01262462')]"
      ]
     },
     "execution_count": 21,
     "metadata": {},
     "output_type": "execute_result"
    }
   ],
   "source": [
    "get_sv(sv_orig_3, False)"
   ]
  },
  {
   "cell_type": "markdown",
   "id": "761dd74e-66c0-411e-ab87-8d45f2dc607f",
   "metadata": {},
   "source": [
    "#### Step 5 - Unprepare `data` register\n",
    "The `data` register is 'unprepared' by applying the oracle again."
   ]
  },
  {
   "cell_type": "code",
   "execution_count": 22,
   "id": "150b87fa-fcfa-4672-85dc-c485e8ea47a9",
   "metadata": {},
   "outputs": [],
   "source": [
    "# Unload the data from data register by reapplying the oracle\n",
    "state_prep.append(black_box, qargs = [i for i in range(0,d+n)])\n",
    "sv_orig_4 = Statevector.from_instruction(state_prep)"
   ]
  },
  {
   "cell_type": "code",
   "execution_count": 23,
   "id": "403980c4-79f5-44bf-aa26-d449bf0e4bd4",
   "metadata": {},
   "outputs": [
    {
     "name": "stdout",
     "output_type": "stream",
     "text": [
      "  Out   Data  Flag  Amplitude    Probability\n"
     ]
    },
    {
     "data": {
      "text/plain": [
       "[('0', '000', '0', '0.93739986', '0.87871850'),\n",
       " ('0', '000', '1', '0.10498331', '0.01102149'),\n",
       " ('1', '000', '0', '0.31246662', '0.09763539'),\n",
       " ('1', '000', '1', '0.11235934', '0.01262462')]"
      ]
     },
     "execution_count": 23,
     "metadata": {},
     "output_type": "execute_result"
    }
   ],
   "source": [
    "get_sv(sv_orig_4, False)"
   ]
  },
  {
   "cell_type": "markdown",
   "id": "a4ecdcb4-5dab-43de-9ea2-07aaac19ae37",
   "metadata": {},
   "source": [
    "#### Step 6 - Measure"
   ]
  },
  {
   "cell_type": "code",
   "execution_count": 24,
   "id": "c41a17d1-a0f9-49f6-b378-797e073614d0",
   "metadata": {},
   "outputs": [
    {
     "data": {
      "text/plain": [
       "<qiskit.circuit.instructionset.InstructionSet at 0x1d7531b6e80>"
      ]
     },
     "execution_count": 24,
     "metadata": {},
     "output_type": "execute_result"
    }
   ],
   "source": [
    "# Measure the flag register\n",
    "state_prep.measure([out[i] for i in range(d)] + [flag[0]], check)"
   ]
  },
  {
   "cell_type": "code",
   "execution_count": 25,
   "id": "3b25bbcb-aaac-471c-91b5-f520a0d1f4f2",
   "metadata": {},
   "outputs": [
    {
     "data": {
      "image/png": "[encoded data removed]",
      "text/plain": [
       "<Figure size 482.122x385.28 with 1 Axes>"
      ]
     },
     "execution_count": 25,
     "metadata": {},
     "output_type": "execute_result"
    }
   ],
   "source": [
    "state_prep.draw('mpl')"
   ]
  },
  {
   "cell_type": "markdown",
   "id": "f6e9ecb5-8444-4ffd-a9f7-29ba881bb8a0",
   "metadata": {},
   "source": [
    "The algorithm is successful if the `flag` register results in $0$. In this case, the system collapses to the desired state. We observe that the states with value of `flag` as $0$ have high probability after amplitude amplification."
   ]
  },
  {
   "cell_type": "code",
   "execution_count": 26,
   "id": "0f075eb6-4ae1-4a6e-9aa9-8c8244f6f4d7",
   "metadata": {},
   "outputs": [
    {
     "name": "stdout",
     "output_type": "stream",
     "text": [
      "{'00': 857, '01': 117, '11': 16, '10': 10}\n"
     ]
    }
   ],
   "source": [
    "backend = Aer.get_backend('aer_simulator')\n",
    "\n",
    "res = execute(state_prep, backend, shots=1000).result()\n",
    "counts = res.get_counts()\n",
    "print(counts)"
   ]
  },
  {
   "cell_type": "code",
   "execution_count": 27,
   "id": "d1f39079-742e-46cf-adec-3f003fee0888",
   "metadata": {},
   "outputs": [
    {
     "data": {
      "image/png": "[encoded data removed]",
      "text/plain": [
       "<Figure size 504x360 with 1 Axes>"
      ]
     },
     "execution_count": 27,
     "metadata": {},
     "output_type": "execute_result"
    }
   ],
   "source": [
    "plot_histogram(counts)"
   ]
  },
  {
   "cell_type": "markdown",
   "id": "0eb5f1be-f92b-4728-aaad-32e0505ef120",
   "metadata": {},
   "source": [
    "Since $A$ corresponds to the probability amplitudes, we plot the square of the data (normalised) to see the expected probability distribution. In the same graph, we plot selected states from `counts` which have `flag` = $0$."
   ]
  },
  {
   "cell_type": "code",
   "execution_count": 28,
   "id": "fc4fb8bd-7f95-47a6-86c1-07b3ba11354d",
   "metadata": {},
   "outputs": [],
   "source": [
    "selected_counts = {}\n",
    "for k in counts.keys():\n",
    "    # Store in dict if flag bit is 0\n",
    "    if k[0] == '0':\n",
    "        selected_counts[k[1]] = counts[k]"
   ]
  },
  {
   "cell_type": "code",
   "execution_count": 29,
   "id": "bc513a3b-265f-4e88-8db9-7d918517b0a4",
   "metadata": {},
   "outputs": [],
   "source": [
    "A_dict = {}\n",
    "for i in range(m):\n",
    "    A_dict[bin(i)[2:].rjust(d, '0')[::-1]] = (A_vals[i])**2"
   ]
  },
  {
   "cell_type": "code",
   "execution_count": 30,
   "id": "0615c7a6-4d25-46bf-8fdd-b7013594d51b",
   "metadata": {},
   "outputs": [
    {
     "data": {
      "image/png": "[encoded data removed]",
      "text/plain": [
       "<Figure size 504x360 with 1 Axes>"
      ]
     },
     "execution_count": 30,
     "metadata": {},
     "output_type": "execute_result"
    }
   ],
   "source": [
    "plot_histogram([selected_counts, A_dict], legend = [\"Counts\", \"Expected\"])"
   ]
  },
  {
   "cell_type": "markdown",
   "id": "fa3bf0b1-9554-482b-ab9c-cd2b32c1aa36",
   "metadata": {},
   "source": [
    "# Modified state preparation algorithm (without arithmetic)\n",
    "\n"
   ]
  },
  {
   "cell_type": "markdown",
   "id": "67386adc-2b0c-4b38-a235-e73c5e3f1761",
   "metadata": {},
   "source": [
    "#### Step 1 - Initialization\n",
    "\n",
    "The circuit is initialized with `out`, `data`, `ref` and `flag` registers, and with `out` register in equal superposition (to represent indices).\n",
    "\n",
    "$$\n",
    "\\begin{align}\n",
    "|\\psi_0\\rangle &= H^{\\otimes d}|0^{\\otimes d}\\rangle_{out} \\otimes |0^{\\otimes n}\\rangle_{data} \\otimes |0^{\\otimes n}\\rangle_{ref} \\otimes |0\\rangle_{flag} \\\\\n",
    "|\\psi_0\\rangle &= \\frac{1}{\\sqrt{M}}\\sum_{i=0}^{M - 1}|i\\rangle_{out}|0^{\\otimes n}\\rangle_{data}|0^{\\otimes n}\\rangle_{ref}|0\\rangle_{flag}\n",
    "\\end{align}\n",
    "$$\n",
    "\n",
    "where $M = 2^d$"
   ]
  },
  {
   "cell_type": "code",
   "execution_count": 31,
   "id": "04de210b-8e37-4041-9de5-84d9af78718f",
   "metadata": {},
   "outputs": [],
   "source": [
    "qc_modified = initializer(A, d, m, n, True)\n",
    "sv_modified_0 = Statevector.from_instruction(qc_modified) "
   ]
  },
  {
   "cell_type": "code",
   "execution_count": 32,
   "id": "b61f9c61-5aad-4660-9f92-72c6f416fa6c",
   "metadata": {},
   "outputs": [
    {
     "name": "stdout",
     "output_type": "stream",
     "text": [
      "  Out   Data   Ref  Flag  Amplitude           Probability\n"
     ]
    },
    {
     "data": {
      "text/plain": [
       "[('0', '000', '000', '0', '0.70710678', '0.50000000'),\n",
       " ('1', '000', '000', '0', '0.70710678', '0.50000000')]"
      ]
     },
     "execution_count": 32,
     "metadata": {},
     "output_type": "execute_result"
    }
   ],
   "source": [
    "get_sv(sv_modified_0, True)"
   ]
  },
  {
   "cell_type": "markdown",
   "id": "03d88ec5-b61f-41ec-9e62-7f616e2a8c1c",
   "metadata": {},
   "source": [
    "#### Step 2 - Apply black box `amp`\n",
    "\n",
    "Next, the oracle is applied on the circuit, which prepares the system in the state \n",
    "\n",
    "$$\n",
    "\\begin{align}\n",
    "|\\psi_1\\rangle &= (amp \\otimes I_{n+1}) |\\psi_0\\rangle \\\\\n",
    "|\\psi_1\\rangle &= \\frac{1}{\\sqrt{M}}\\sum_{i=0}^{M - 1}|i\\rangle_{out}|a_{i}^{(n)}\\rangle_{data}|0^{\\otimes n}\\rangle_{ref} |0\\rangle_{flag}\n",
    "\\end{align}\n",
    "$$\n",
    "\n",
    "$amp$ has the following action - \n",
    "$$amp|i\\rangle|z\\rangle = |i\\rangle|z \\oplus a_{i}^{(n)}\\rangle $$"
   ]
  },
  {
   "cell_type": "code",
   "execution_count": 33,
   "id": "3170eb01-3474-49f7-a75b-5aaee1602b04",
   "metadata": {},
   "outputs": [],
   "source": [
    "black_box = oracle(A, d, m, n)\n",
    "qc_modified.append(black_box, qargs = [i for i in range(0,d+n)])\n",
    "sv_modified_1 = Statevector.from_instruction(qc_modified) "
   ]
  },
  {
   "cell_type": "code",
   "execution_count": 34,
   "id": "2f3db792-578b-4a42-a205-7d79cc75aec3",
   "metadata": {},
   "outputs": [
    {
     "name": "stdout",
     "output_type": "stream",
     "text": [
      "  Out   Data   Ref  Flag  Amplitude           Probability\n"
     ]
    },
    {
     "data": {
      "text/plain": [
       "[('0', '011', '000', '0', '0.70710678', '0.50000000'),\n",
       " ('1', '001', '000', '0', '0.70710678', '0.50000000')]"
      ]
     },
     "execution_count": 34,
     "metadata": {},
     "output_type": "execute_result"
    }
   ],
   "source": [
    "get_sv(sv_modified_1, True)"
   ]
  },
  {
   "cell_type": "markdown",
   "id": "443b18d0-5c33-420e-97ef-77cea2e83317",
   "metadata": {},
   "source": [
    "#### Step 3 - Prepare `ref` in an equal superposition\n",
    "\n",
    "$$\n",
    "\\begin{align}\n",
    "|\\psi_2\\rangle &= (I_{d+n} \\otimes H^{\\otimes n} \\otimes I_{1}) |\\psi_1\\rangle \\\\\n",
    "|\\psi_2\\rangle &= \\frac{1}{\\sqrt{MN}}\\sum_{i=0}^{M - 1}|i\\rangle_{out}|a_{i}^{(n)}\\rangle_{data}\\Biggl(\\sum_{j=0}^{N - 1} |j\\rangle_{ref} \\Biggr) |0\\rangle_{flag}\n",
    "\\end{align}\n",
    "$$\n",
    "\n",
    "where $N = 2^n$"
   ]
  },
  {
   "cell_type": "code",
   "execution_count": 35,
   "id": "7eadb72c-2f01-4f42-9dbc-3dfccc43a5a0",
   "metadata": {},
   "outputs": [],
   "source": [
    "qc_modified.h([i for i in range(d+n, d+2*n)])\n",
    "sv_modified_2 = Statevector.from_instruction(qc_modified)"
   ]
  },
  {
   "cell_type": "code",
   "execution_count": 36,
   "id": "1b0dc44c-9784-48d5-b96e-fb27c73e4757",
   "metadata": {},
   "outputs": [
    {
     "name": "stdout",
     "output_type": "stream",
     "text": [
      "  Out   Data   Ref  Flag  Amplitude           Probability\n"
     ]
    },
    {
     "data": {
      "text/plain": [
       "[('0', '011', '000', '0', '0.25000000', '0.06250000'),\n",
       " ('0', '011', '100', '0', '0.25000000', '0.06250000'),\n",
       " ('0', '011', '010', '0', '0.25000000', '0.06250000'),\n",
       " ('0', '011', '110', '0', '0.25000000', '0.06250000'),\n",
       " ('0', '011', '001', '0', '0.25000000', '0.06250000'),\n",
       " ('0', '011', '101', '0', '0.25000000', '0.06250000'),\n",
       " ('0', '011', '011', '0', '0.25000000', '0.06250000'),\n",
       " ('0', '011', '111', '0', '0.25000000', '0.06250000'),\n",
       " ('1', '001', '000', '0', '0.25000000', '0.06250000'),\n",
       " ('1', '001', '100', '0', '0.25000000', '0.06250000'),\n",
       " ('1', '001', '010', '0', '0.25000000', '0.06250000'),\n",
       " ('1', '001', '110', '0', '0.25000000', '0.06250000'),\n",
       " ('1', '001', '001', '0', '0.25000000', '0.06250000'),\n",
       " ('1', '001', '101', '0', '0.25000000', '0.06250000'),\n",
       " ('1', '001', '011', '0', '0.25000000', '0.06250000'),\n",
       " ('1', '001', '111', '0', '0.25000000', '0.06250000')]"
      ]
     },
     "execution_count": 36,
     "metadata": {},
     "output_type": "execute_result"
    }
   ],
   "source": [
    "get_sv(sv_modified_2, True)"
   ]
  },
  {
   "cell_type": "markdown",
   "id": "1ed7f9b7-5b1a-42db-8227-1351ee56da41",
   "metadata": {},
   "source": [
    "#### Step 4 - Perform compare operation\n",
    "\n",
    "The $comp$ operator is applied on the system, which results in the following state\n",
    "\n",
    "$$\n",
    "\\begin{align}\n",
    "|\\psi_3\\rangle &= comp|\\psi_2\\rangle \\\\\n",
    "|\\psi_3\\rangle &= \\frac{1}{\\sqrt{MN}}\\sum_{i=0}^{M - 1}|i\\rangle_{out}|a_{i}^{(n)}\\rangle_{data}\\Biggl( \\sum_{j=0}^{a_{i}^{n} - 1} |j\\rangle_{ref} |0\\rangle_{flag} + \\sum_{j=a_{i}^{n}}^{N - 1} |j\\rangle_{ref} |1\\rangle_{flag}\\Biggr) \n",
    "\\end{align}\n",
    "$$\n",
    "\n",
    "That is, of the prepared superposition states in `ref`, if the state is $\\geq a_i$ for that value of $i$, then the corresponding qubit in `flag` is flipped to the $1$ state.\n",
    "\n",
    "\n",
    "In the case of the toy example, we have \n",
    "\n",
    "$$\n",
    "\\begin{align}\n",
    "|\\psi_3\\rangle &= \\frac{1}{2}|0\\rangle_{out}|011\\rangle_{data}\\Biggl[\\frac{1}{2\\sqrt{2}}\\Bigl(|000\\rangle_{ref} + |001\\rangle_{ref} + |010\\rangle_{ref} \\Bigr)|0\\rangle_{flag} + \\frac{1}{2\\sqrt{2}}\\Bigl(|011\\rangle_{ref} + |100\\rangle_{ref} + |101\\rangle_{ref} + |110\\rangle_{ref} + |111\\rangle_{ref} \\Bigr)_{ref}|1\\rangle_{flag}\\Biggr] \\\\\n",
    "               &+ \\frac{1}{2}|1\\rangle_{out}|001\\rangle_{data}\\Biggl[\\frac{1}{2\\sqrt{2}}\\Bigl(|000\\rangle_{ref} \\Bigr)|0\\rangle_{flag} + \\frac{1}{2\\sqrt{2}}\\Bigl(|001\\rangle_{ref} + |010\\rangle_{ref} + |011\\rangle_{ref} + |100\\rangle_{ref} + |101\\rangle_{ref} + |110\\rangle_{ref} + |111\\rangle_{ref} \\Bigr)_{ref}|1\\rangle_{flag}\\Biggr]\n",
    "\\end{align}\n",
    "$$"
   ]
  },
  {
   "cell_type": "code",
   "execution_count": 37,
   "id": "3e533450-b0b7-4b38-85b5-c5c1f6048e35",
   "metadata": {},
   "outputs": [],
   "source": [
    "def compare(A_vals_n, d, m, n):\n",
    "    circ = QuantumCircuit(d+n+1, name = \"comp\")\n",
    "    # circ.h([i for i in range(d, d+n)])\n",
    "    dec = 2**n\n",
    "    for i in range(m):\n",
    "        for j in range(int(A_vals_n[i]*dec), dec):\n",
    "            circ.append(MCXGate(num_ctrl_qubits = d+n, ctrl_state = ((bin(i)[2:].rjust(d, '0') + bin(j)[2:].rjust(n, '0'))[::-1])), [k for k in range(d+n+1)])\n",
    "        circ.barrier()\n",
    "    return circ"
   ]
  },
  {
   "cell_type": "code",
   "execution_count": 38,
   "id": "1141e8ff-6e22-424e-be0c-37aadae432c6",
   "metadata": {},
   "outputs": [],
   "source": [
    "comp = compare(A_vals, d, m, n)\n",
    "qc_modified.append(comp, qargs = [i for i in range(0,d)] + [i for i in range(d+n, d+2*n+1)])\n",
    "sv_modified_3 = Statevector.from_instruction(qc_modified)"
   ]
  },
  {
   "cell_type": "code",
   "execution_count": 39,
   "id": "f8a5139e-7862-441e-8000-b5670bd5bfca",
   "metadata": {},
   "outputs": [
    {
     "name": "stdout",
     "output_type": "stream",
     "text": [
      "  Out   Data   Ref  Flag  Amplitude           Probability\n"
     ]
    },
    {
     "data": {
      "text/plain": [
       "[('0', '011', '000', '0', '0.25000000', '0.06250000'),\n",
       " ('0', '011', '010', '0', '0.25000000', '0.06250000'),\n",
       " ('0', '011', '001', '0', '0.25000000', '0.06250000'),\n",
       " ('0', '011', '100', '1', '0.25000000', '0.06250000'),\n",
       " ('0', '011', '110', '1', '0.25000000', '0.06250000'),\n",
       " ('0', '011', '101', '1', '0.25000000', '0.06250000'),\n",
       " ('0', '011', '011', '1', '0.25000000', '0.06250000'),\n",
       " ('0', '011', '111', '1', '0.25000000', '0.06250000'),\n",
       " ('1', '001', '000', '0', '0.25000000', '0.06250000'),\n",
       " ('1', '001', '100', '1', '0.25000000', '0.06250000'),\n",
       " ('1', '001', '010', '1', '0.25000000', '0.06250000'),\n",
       " ('1', '001', '110', '1', '0.25000000', '0.06250000'),\n",
       " ('1', '001', '001', '1', '0.25000000', '0.06250000'),\n",
       " ('1', '001', '101', '1', '0.25000000', '0.06250000'),\n",
       " ('1', '001', '011', '1', '0.25000000', '0.06250000'),\n",
       " ('1', '001', '111', '1', '0.25000000', '0.06250000')]"
      ]
     },
     "execution_count": 39,
     "metadata": {},
     "output_type": "execute_result"
    }
   ],
   "source": [
    "get_sv(sv_modified_3, True)"
   ]
  },
  {
   "cell_type": "markdown",
   "id": "9db56787-ea6c-4aa6-a469-e90e34845c2b",
   "metadata": {},
   "source": [
    "#### Step 5 - Unprepare uniform superposition in `ref`\n",
    "\n",
    "We now unprepare the uniform superposition on `ref` by reapplying the Hadamard transform on the register. Since there are $a_l^{(n)}$ states in the superposition that are entangled with the flag register in the $0$ state, the Hadamard transform will result in exactly $a_l^{(n)}$ states with `ref` and `flag` registers in state $|0^n\\rangle_{ref}|0\\rangle_{flag}$. The system now has the final desired state, and some unwanted states. Thus, we use the states which have `ref` and `flag` registers as all-zeroes as the good states in amplitude amplification.\n",
    "\n",
    "The state of the system is now \n",
    "\n",
    "$$\n",
    "\\begin{align}\n",
    "|\\psi_4\\rangle &= (I_{d+n} \\otimes H^{\\otimes n} \\otimes I_{1}) |\\psi_3\\rangle \\\\ \\\\\n",
    "               &= \\frac{1}{\\sqrt{M}}\\sum_{i=0}^{M - 1}\\frac{a_l^{(n)}}{N}|i\\rangle_{out}|a_{i}^{(n)}\\rangle_{data}|0^{\\otimes n}\\rangle_{ref} |0\\rangle_{flag} + |\\omega\\rangle_{out \\otimes data \\otimes ref \\otimes flag}\n",
    "\\end{align}\n",
    "$$\n",
    "\n",
    "where $|\\omega\\rangle$ is the unwanted, unnormalised state that we will be 'supressed' during amplitude amplification"
   ]
  },
  {
   "cell_type": "code",
   "execution_count": 40,
   "id": "a8e06841-4590-4e6b-ab01-ada638499c3f",
   "metadata": {},
   "outputs": [],
   "source": [
    "qc_modified.h([i for i in range(d+n, d+2*n)])\n",
    "sv_modified_4 = Statevector.from_instruction(qc_modified)"
   ]
  },
  {
   "cell_type": "code",
   "execution_count": 41,
   "id": "c24cf7d8-1379-496c-a363-829ee02b9b8a",
   "metadata": {},
   "outputs": [
    {
     "name": "stdout",
     "output_type": "stream",
     "text": [
      "  Out   Data   Ref  Flag  Amplitude           Probability\n"
     ]
    },
    {
     "data": {
      "text/plain": [
       "[('0', '011', '000', '0', '0.26516504', '0.07031250'),\n",
       " ('0', '011', '100', '0', '0.26516504', '0.07031250'),\n",
       " ('0', '011', '010', '0', '0.08838835', '0.00781250'),\n",
       " ('0', '011', '110', '0', '0.08838835', '0.00781250'),\n",
       " ('0', '011', '001', '0', '0.08838835', '0.00781250'),\n",
       " ('0', '011', '101', '0', '0.08838835', '0.00781250'),\n",
       " ('0', '011', '011', '0', '0.08838835', '0.00781250'),\n",
       " ('0', '011', '111', '0', '0.08838835', '0.00781250'),\n",
       " ('0', '011', '000', '1', '0.44194174', '0.19531250'),\n",
       " ('0', '011', '100', '1', '0.26516504', '0.07031250'),\n",
       " ('0', '011', '010', '1', '0.08838835', '0.00781250'),\n",
       " ('0', '011', '110', '1', '0.08838835', '0.00781250'),\n",
       " ('0', '011', '001', '1', '0.08838835', '0.00781250'),\n",
       " ('0', '011', '101', '1', '0.08838835', '0.00781250'),\n",
       " ('0', '011', '011', '1', '0.08838835', '0.00781250'),\n",
       " ('0', '011', '111', '1', '0.08838835', '0.00781250'),\n",
       " ('1', '001', '000', '0', '0.08838835', '0.00781250'),\n",
       " ('1', '001', '100', '0', '0.08838835', '0.00781250'),\n",
       " ('1', '001', '010', '0', '0.08838835', '0.00781250'),\n",
       " ('1', '001', '110', '0', '0.08838835', '0.00781250'),\n",
       " ('1', '001', '001', '0', '0.08838835', '0.00781250'),\n",
       " ('1', '001', '101', '0', '0.08838835', '0.00781250'),\n",
       " ('1', '001', '011', '0', '0.08838835', '0.00781250'),\n",
       " ('1', '001', '111', '0', '0.08838835', '0.00781250'),\n",
       " ('1', '001', '000', '1', '0.61871843', '0.38281250'),\n",
       " ('1', '001', '100', '1', '0.08838835', '0.00781250'),\n",
       " ('1', '001', '010', '1', '0.08838835', '0.00781250'),\n",
       " ('1', '001', '110', '1', '0.08838835', '0.00781250'),\n",
       " ('1', '001', '001', '1', '0.08838835', '0.00781250'),\n",
       " ('1', '001', '101', '1', '0.08838835', '0.00781250'),\n",
       " ('1', '001', '011', '1', '0.08838835', '0.00781250'),\n",
       " ('1', '001', '111', '1', '0.08838835', '0.00781250')]"
      ]
     },
     "execution_count": 41,
     "metadata": {},
     "output_type": "execute_result"
    }
   ],
   "source": [
    "get_sv(sv_modified_4, True)"
   ]
  },
  {
   "cell_type": "code",
   "execution_count": 42,
   "id": "29d5513b-d70e-4c91-baa4-6853fb565670",
   "metadata": {},
   "outputs": [
    {
     "data": {
      "image/png": "[encoded data removed]",
      "text/plain": [
       "<Figure size 481.547x505.68 with 1 Axes>"
      ]
     },
     "execution_count": 42,
     "metadata": {},
     "output_type": "execute_result"
    }
   ],
   "source": [
    "qc_modified.draw('mpl')"
   ]
  },
  {
   "cell_type": "markdown",
   "id": "bcf607d3-1b56-4aa9-b697-9453b11899f8",
   "metadata": {},
   "source": [
    "#### Step 6 - Perform amplitude amplification\n",
    "\n",
    "The system now contains the target state, which has the data elements as amplitudes of the basis vectors. However the system also has some unwanted states (where `ref ` and `flag` register are non-zero). To eliminate these states and increase the probability of the desired state, we perform amplitude amplification on the state $|\\psi_4\\rangle$. After amplitude amplification, we will be left with a superposition of the desired state, and an undesired state, which has a small probability."
   ]
  },
  {
   "cell_type": "code",
   "execution_count": 43,
   "id": "f1df07e3-1bf9-4021-b7c9-6eecef1c7a08",
   "metadata": {},
   "outputs": [],
   "source": [
    "backend = Aer.get_backend('aer_simulator')\n",
    "quantum_instance = QuantumInstance(backend)\n",
    "\n",
    "problem = AmplificationProblem(oracle = phase_oracle(d, n, True), state_preparation = qc_modified, objective_qubits = [i for i in range(0,d+2*n+1)], is_good_state = ['00110000', '10010000'])\n",
    "grover = Grover(quantum_instance=quantum_instance)\n",
    "\n",
    "out = QuantumRegister(d, name = \"out\")\n",
    "data = QuantumRegister(n, name = \"data\")\n",
    "ref = QuantumRegister(n, name = \"ref\")\n",
    "flag = QuantumRegister(1, name = \"flag\")\n",
    "check = ClassicalRegister(d+n+1, name = \"check\")\n",
    "\n",
    "modified_state_prep = QuantumCircuit(out, data, ref, flag, check)\n",
    "# modified_state_prep = qc_modified\n",
    "\n",
    "modified_state_prep.append(grover.construct_circuit(problem, power = 2), [i for i in range(0, d+2*n+1)])\n",
    "    \n",
    "sv_modified_5 = Statevector.from_instruction(modified_state_prep)"
   ]
  },
  {
   "cell_type": "code",
   "execution_count": 44,
   "id": "4734a7b2-84c6-4d49-85d0-0cf5998f6536",
   "metadata": {},
   "outputs": [
    {
     "name": "stdout",
     "output_type": "stream",
     "text": [
      "  Out   Data   Ref  Flag  Amplitude           Probability\n"
     ]
    },
    {
     "data": {
      "text/plain": [
       "[('0', '011', '000', '0', '0.93739986', '0.87871850'),\n",
       " ('0', '011', '100', '0', '0.04246784', '0.00180352'),\n",
       " ('0', '011', '010', '0', '0.01415595', '0.00020039'),\n",
       " ('0', '011', '110', '0', '0.01415595', '0.00020039'),\n",
       " ('0', '011', '001', '0', '0.01415595', '0.00020039'),\n",
       " ('0', '011', '101', '0', '0.01415595', '0.00020039'),\n",
       " ('0', '011', '011', '0', '0.01415595', '0.00020039'),\n",
       " ('0', '011', '111', '0', '0.01415595', '0.00020039'),\n",
       " ('0', '011', '000', '1', '0.07077973', '0.00500977'),\n",
       " ('0', '011', '100', '1', '0.04246784', '0.00180352'),\n",
       " ('0', '011', '010', '1', '0.01415595', '0.00020039'),\n",
       " ('0', '011', '110', '1', '0.01415595', '0.00020039'),\n",
       " ('0', '011', '001', '1', '0.01415595', '0.00020039'),\n",
       " ('0', '011', '101', '1', '0.01415595', '0.00020039'),\n",
       " ('0', '011', '011', '1', '0.01415595', '0.00020039'),\n",
       " ('0', '011', '111', '1', '0.01415595', '0.00020039'),\n",
       " ('1', '001', '000', '0', '0.31246662', '0.09763539'),\n",
       " ('1', '001', '100', '0', '0.01415595', '0.00020039'),\n",
       " ('1', '001', '010', '0', '0.01415595', '0.00020039'),\n",
       " ('1', '001', '110', '0', '0.01415595', '0.00020039'),\n",
       " ('1', '001', '001', '0', '0.01415595', '0.00020039'),\n",
       " ('1', '001', '101', '0', '0.01415595', '0.00020039'),\n",
       " ('1', '001', '011', '0', '0.01415595', '0.00020039'),\n",
       " ('1', '001', '111', '0', '0.01415595', '0.00020039'),\n",
       " ('1', '001', '000', '1', '0.09909162', '0.00981915'),\n",
       " ('1', '001', '100', '1', '0.01415595', '0.00020039'),\n",
       " ('1', '001', '010', '1', '0.01415595', '0.00020039'),\n",
       " ('1', '001', '110', '1', '0.01415595', '0.00020039'),\n",
       " ('1', '001', '001', '1', '0.01415595', '0.00020039'),\n",
       " ('1', '001', '101', '1', '0.01415595', '0.00020039'),\n",
       " ('1', '001', '011', '1', '0.01415595', '0.00020039'),\n",
       " ('1', '001', '111', '1', '0.01415595', '0.00020039')]"
      ]
     },
     "execution_count": 44,
     "metadata": {},
     "output_type": "execute_result"
    }
   ],
   "source": [
    "(get_sv(sv_modified_5, True))"
   ]
  },
  {
   "cell_type": "markdown",
   "id": "87895bc6-f737-47e6-a7f6-1958364a3e0d",
   "metadata": {},
   "source": [
    "#### Step 7 - Unprepare `data` register\n",
    "The `data` register is 'unprepared' by applying the oracle again."
   ]
  },
  {
   "cell_type": "code",
   "execution_count": 45,
   "id": "62530fc2-4b11-46d6-ae3a-bd9e923a888d",
   "metadata": {},
   "outputs": [],
   "source": [
    "modified_state_prep.append(black_box, qargs = [i for i in range(0, d+n)])\n",
    "sv_modified_6 = Statevector.from_instruction(modified_state_prep)"
   ]
  },
  {
   "cell_type": "code",
   "execution_count": 46,
   "id": "3df23ce0-3273-4cc5-a548-c8c5cb887323",
   "metadata": {},
   "outputs": [
    {
     "name": "stdout",
     "output_type": "stream",
     "text": [
      "  Out   Data   Ref  Flag  Amplitude           Probability\n"
     ]
    },
    {
     "data": {
      "text/plain": [
       "[('0', '000', '000', '0', '0.93739986', '0.87871850'),\n",
       " ('0', '000', '100', '0', '0.04246784', '0.00180352'),\n",
       " ('0', '000', '010', '0', '0.01415595', '0.00020039'),\n",
       " ('0', '000', '110', '0', '0.01415595', '0.00020039'),\n",
       " ('0', '000', '001', '0', '0.01415595', '0.00020039'),\n",
       " ('0', '000', '101', '0', '0.01415595', '0.00020039'),\n",
       " ('0', '000', '011', '0', '0.01415595', '0.00020039'),\n",
       " ('0', '000', '111', '0', '0.01415595', '0.00020039'),\n",
       " ('0', '000', '000', '1', '0.07077973', '0.00500977'),\n",
       " ('0', '000', '100', '1', '0.04246784', '0.00180352'),\n",
       " ('0', '000', '010', '1', '0.01415595', '0.00020039'),\n",
       " ('0', '000', '110', '1', '0.01415595', '0.00020039'),\n",
       " ('0', '000', '001', '1', '0.01415595', '0.00020039'),\n",
       " ('0', '000', '101', '1', '0.01415595', '0.00020039'),\n",
       " ('0', '000', '011', '1', '0.01415595', '0.00020039'),\n",
       " ('0', '000', '111', '1', '0.01415595', '0.00020039'),\n",
       " ('1', '000', '000', '0', '0.31246662', '0.09763539'),\n",
       " ('1', '000', '100', '0', '0.01415595', '0.00020039'),\n",
       " ('1', '000', '010', '0', '0.01415595', '0.00020039'),\n",
       " ('1', '000', '110', '0', '0.01415595', '0.00020039'),\n",
       " ('1', '000', '001', '0', '0.01415595', '0.00020039'),\n",
       " ('1', '000', '101', '0', '0.01415595', '0.00020039'),\n",
       " ('1', '000', '011', '0', '0.01415595', '0.00020039'),\n",
       " ('1', '000', '111', '0', '0.01415595', '0.00020039'),\n",
       " ('1', '000', '000', '1', '0.09909162', '0.00981915'),\n",
       " ('1', '000', '100', '1', '0.01415595', '0.00020039'),\n",
       " ('1', '000', '010', '1', '0.01415595', '0.00020039'),\n",
       " ('1', '000', '110', '1', '0.01415595', '0.00020039'),\n",
       " ('1', '000', '001', '1', '0.01415595', '0.00020039'),\n",
       " ('1', '000', '101', '1', '0.01415595', '0.00020039'),\n",
       " ('1', '000', '011', '1', '0.01415595', '0.00020039'),\n",
       " ('1', '000', '111', '1', '0.01415595', '0.00020039')]"
      ]
     },
     "execution_count": 46,
     "metadata": {},
     "output_type": "execute_result"
    }
   ],
   "source": [
    "get_sv(sv_modified_6, True)"
   ]
  },
  {
   "cell_type": "markdown",
   "id": "931b2355-89e8-4852-974e-21cbdecfe82c",
   "metadata": {},
   "source": [
    "#### Step 8 - Measure"
   ]
  },
  {
   "cell_type": "code",
   "execution_count": 47,
   "id": "44513bd1-299b-460a-b5ea-d6800ef33827",
   "metadata": {},
   "outputs": [
    {
     "data": {
      "image/png": "[encoded data removed]",
      "text/plain": [
       "<Figure size 662.722x565.88 with 1 Axes>"
      ]
     },
     "execution_count": 47,
     "metadata": {},
     "output_type": "execute_result"
    }
   ],
   "source": [
    "modified_state_prep.measure([out[i] for i in range(d)] + [ref[i] for i in range(n)] + [flag[0]], check)\n",
    "modified_state_prep.draw('mpl')"
   ]
  },
  {
   "cell_type": "markdown",
   "id": "2b5deea4-6b17-433c-be13-7354a8e60484",
   "metadata": {},
   "source": [
    "The algorithm is successful if the `ref` and `flag` register result in $0^{n+1}$. In this case, the system collapses to the desired state. We observe that the states with value of `ref` and `flag` as $0^{n+1}$ have high probability after amplitude amplification."
   ]
  },
  {
   "cell_type": "code",
   "execution_count": 48,
   "id": "6f90fd2c-36fa-4f79-8be4-75533d4afa44",
   "metadata": {},
   "outputs": [
    {
     "name": "stdout",
     "output_type": "stream",
     "text": [
      "{'10001': 13, '00000': 871, '11000': 1, '00001': 102, '10000': 3, '01110': 1, '10010': 1, '10110': 1, '00010': 4, '00100': 1, '11100': 1, '01111': 1}\n"
     ]
    }
   ],
   "source": [
    "backend = Aer.get_backend('aer_simulator')\n",
    "\n",
    "modified_res = execute(modified_state_prep, backend, shots=1000).result()\n",
    "modified_counts = modified_res.get_counts()\n",
    "print(modified_counts)"
   ]
  },
  {
   "cell_type": "code",
   "execution_count": 49,
   "id": "de87acb3-e46a-4ee5-9de2-fed2e6fba859",
   "metadata": {},
   "outputs": [
    {
     "data": {
      "image/png": "[encoded data removed]",
      "text/plain": [
       "<Figure size 504x360 with 1 Axes>"
      ]
     },
     "execution_count": 49,
     "metadata": {},
     "output_type": "execute_result"
    }
   ],
   "source": [
    "plot_histogram(modified_counts)"
   ]
  },
  {
   "cell_type": "markdown",
   "id": "a148726a-e9b4-4b55-bc47-ec8ad9eee4ae",
   "metadata": {},
   "source": [
    "Since $A$ corresponds to the probability amplitudes, we plot the square of the data (normalised) to see the expected probability distribution. In the same graph, we plot selected states from `counts` which have `ref` and `flag` = $0^{n+1}$."
   ]
  },
  {
   "cell_type": "code",
   "execution_count": 50,
   "id": "da1596f5-420c-48e1-a7ae-1a31d977e8d2",
   "metadata": {},
   "outputs": [],
   "source": [
    "selected_modified_counts = {}\n",
    "for k in modified_counts.keys():\n",
    "    # Store in dict if ref and flag bits are all 0\n",
    "    if k[0:n+1] == '0'*(n+1):\n",
    "        selected_modified_counts[k[n+1:]] = modified_counts[k]"
   ]
  },
  {
   "cell_type": "code",
   "execution_count": 51,
   "id": "dec13dc6-ae8f-4f42-b862-7990198ba149",
   "metadata": {},
   "outputs": [],
   "source": [
    "A_dict = {}\n",
    "for i in range(m):\n",
    "    A_dict[bin(i)[2:].rjust(d, '0')[::-1]] = (A_vals[i])**2"
   ]
  },
  {
   "cell_type": "code",
   "execution_count": 52,
   "id": "deb7ab22-c3d2-4507-9c12-cad42df91ba2",
   "metadata": {},
   "outputs": [
    {
     "data": {
      "image/png": "[encoded data removed]",
      "text/plain": [
       "<Figure size 504x360 with 1 Axes>"
      ]
     },
     "execution_count": 52,
     "metadata": {},
     "output_type": "execute_result"
    }
   ],
   "source": [
    "plot_histogram([selected_modified_counts, A_dict], legend = [\"Counts\", \"Expected\"])"
   ]
  }
 ],
 "metadata": {
  "kernelspec": {
   "display_name": "Python 3",
   "language": "python",
   "name": "python3"
  },
  "language_info": {
   "codemirror_mode": {
    "name": "ipython",
    "version": 3
   },
   "file_extension": ".py",
   "mimetype": "text/x-python",
   "name": "python",
   "nbconvert_exporter": "python",
   "pygments_lexer": "ipython3",
   "version": "3.8.8"
  }
 },
 "nbformat": 4,
 "nbformat_minor": 5
}
